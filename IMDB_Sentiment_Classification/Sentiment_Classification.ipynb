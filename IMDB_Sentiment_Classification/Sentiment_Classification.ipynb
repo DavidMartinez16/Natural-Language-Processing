{
 "cells": [
  {
   "cell_type": "markdown",
   "metadata": {},
   "source": [
    "## Import the libraries"
   ]
  },
  {
   "cell_type": "code",
   "execution_count": 89,
   "metadata": {},
   "outputs": [],
   "source": [
    "import spacy\n",
    "import string\n",
    "from spacy.matcher import Matcher\n",
    "from spacy.tokens import Span\n",
    "from spacy import displacy\n",
    "import en_core_web_sm\n",
    "import warnings\n",
    "warnings.filterwarnings('ignore')\n",
    "\n",
    "# Stopwords\n",
    "from spacy.lang.en.stop_words import STOP_WORDS\n",
    "\n",
    "import pandas as pd\n",
    "from sklearn.feature_extraction.text import TfidfVectorizer\n",
    "from sklearn.pipeline import Pipeline\n",
    "from sklearn.model_selection import train_test_split\n",
    "from sklearn.metrics import accuracy_score, classification_report, confusion_matrix, ConfusionMatrixDisplay\n",
    "from sklearn.svm import LinearSVC\n",
    "import matplotlib.pyplot as plt\n",
    "\n",
    "from wordcloud import WordCloud, ImageColorGenerator, STOPWORDS\n",
    "import nltk \n",
    "from nltk.corpus import stopwords\n",
    "from nltk.tokenize import word_tokenize"
   ]
  },
  {
   "cell_type": "markdown",
   "metadata": {},
   "source": [
    "## Natural Language Processing (NLP)\n",
    "\n",
    "Natural language processing (NLP) is the relationship between computers and human language. More specifically, natural language processing is the computer understanding, analysis, manipulation, and/or generation of natural language (according to dictionary.com).\n",
    "\n",
    "Natural language refers to speech analysis in both audible speech, as well as text of a language. NLP systems capture meaning from an input of words (sentences, paragraphs, pages, etc.) in the form of a structured output (which varies greatly depending on the application). Natural language processing is a fundamental element of artificial intelligence."
   ]
  },
  {
   "cell_type": "markdown",
   "metadata": {},
   "source": [
    "## Tokenization\n",
    "\n",
    "Tokenization is a way of separating a piece of text into smaller units called tokens. Here, tokens can be either words, characters, or subwords. Hence, tokenization can be broadly classified into 3 types – word, character, and subword (n-gram characters) tokenization.\n",
    "\n",
    "For example, consider the sentence: “Never give up”.\n",
    "\n",
    "The most common way of forming tokens is based on space. Assuming space as a delimiter, the tokenization of the sentence results in 3 tokens – Never-give-up. As each token is a word, it becomes an example of Word tokenization.\n",
    "\n",
    "Similarly, tokens can be either characters or subwords. For example, let us consider “smarter”:\n",
    "\n",
    "Character tokens: s-m-a-r-t-e-r\n",
    "Subword tokens: smart-er\n",
    "\n",

   ]
  },
  {
   "cell_type": "code",
   "execution_count": 92,
   "metadata": {},
   "outputs": [],
   "source": [
    "nlp = en_core_web_sm.load()\n",
    "text = \"Apple, This is first sentence. And Google this is another one. Here 3rd one is\""
   ]
  },
  {
   "cell_type": "code",
   "execution_count": 93,
   "metadata": {},
   "outputs": [],
   "source": [
    "doc = nlp(text)"
   ]
  },
  {
   "cell_type": "code",
   "execution_count": 94,
   "metadata": {},
   "outputs": [
    {
     "name": "stdout",
     "output_type": "stream",
     "text": [
      "Apple\n",
      ",\n",
      "This\n",
      "is\n",
      "first\n",
      "sentence\n",
      ".\n",
      "And\n",
      "Google\n",
      "this\n",
      "is\n",
      "another\n",
      "one\n",
      ".\n",
      "Here\n",
      "3rd\n",
      "one\n",
      "is\n"
     ]
    }
   ],
   "source": [
    "# Print the tokens for the doc\n",
    "for token in doc:\n",
    "    print(token)"
   ]
  },
  {
   "cell_type": "code",
   "execution_count": 95,
   "metadata": {},
   "outputs": [],
   "source": [
    "sent = nlp.create_pipe('sentencizer')"
   ]
  },
  {
   "cell_type": "code",
   "execution_count": 96,
   "metadata": {},
   "outputs": [],
   "source": [
    "nlp.add_pipe(sent, before='parser')"
   ]
  },
  {
   "cell_type": "code",
   "execution_count": 97,
   "metadata": {},
   "outputs": [],
   "source": [
    "doc = nlp(text)"
   ]
  },
  {
   "cell_type": "code",
   "execution_count": 98,
   "metadata": {},
   "outputs": [
    {
     "name": "stdout",
     "output_type": "stream",
     "text": [
      "Apple, This is first sentence.\n",
      "And Google this is another one.\n",
      "Here 3rd one is\n"
     ]
    }
   ],
   "source": [
    "# Print the sentence in the doc\n",
    "for sent in doc.sents:\n",
    "    print(sent)"
   ]
  },
  {
   "cell_type": "markdown",
   "metadata": {},
   "source": [
    "## Stop Words\n",
    "\n",
    "stop words are words which are filtered out before or after processing of natural language data (text).[1] Though \"stop words\" usually refers to the most common words in a language, there is no single universal list of stop words used by all natural language processing tools, and indeed not all tools even use such a list. Some tools specifically avoid removing these stop words to support phrase search."
   ]
  },
  {
   "cell_type": "code",
   "execution_count": 99,
   "metadata": {},
   "outputs": [
    {
     "name": "stdout",
     "output_type": "stream",
     "text": [
      "['various', 'ours', 'itself', 'under', 'where', '‘ve', 'beforehand', 'such', 'sometime', 'back', 'the', 'moreover', 'whereby', 'could', 'less', 'n‘t', 'do', 'move', 'has', 'during', 'eight', 'twelve', 'name', 'he', 'myself', 'whereupon', 'more', 'each', 'though', '’s', 'neither', 'either', 'yourselves', 'front', 'whatever', 'get', 'somewhere', 'already', 'otherwise', 'does', 'since', 'whenever', 'hence', 'been', 'also', 'by', 'full', 'any', 'five', 'himself', 'his', 'is', 'say', 'next', 'ca', 'too', 'yours', 'thus', 'sometimes', 'onto', 'after', 'n’t', 'amount', 'seems', 'become', 'then', 'empty', \"'s\", 'your', 'fifty', 'most', 'nothing', 'anyhow', 'anyone', 'noone', 'those', 'had', 'an', 'seem', 'nowhere', 'must', 'another', 'nine', 'across', 'just', 'make', 'give', 'even', 'being', 'per', 'at', 'two', 'hers', '’m', 'its', 'whereafter', 'will', 'wherein', 'be', 'own', 'one', 'therefore', 'why', 'to', 'others', 'again', 'were', 'we', 'when', 'further', \"'m\", 'together', 'please', \"n't\", 'behind', 'for', 'someone', 'beyond', 'mine', 'along', 'therein', 'four', 'every', 'who', '’ve', 'about', 'many', 'me', 'three', 'perhaps', 'hereby', 'always', 'him', 'and', 'whither', 'whole', 'without', \"'re\", 'within', '’d', 'anywhere', 'thereupon', 'elsewhere', 'but', 'both', 'from', 'upon', 'none', 'twenty', 'least', 'here', 'them', 'enough', 'much', 'everything', 'often', 'quite', 'should', 'whether', 'serious', 'this', 'whence', 'very', 'ever', 'mostly', 'their', 'off', 'everywhere', 'ten', 'nevertheless', 'never', 'you', 'used', 'becomes', 'hereafter', '‘ll', 'other', 'see', 'until', 'keep', 'these', 'third', 'show', 'while', 'whereas', 'might', 'top', 'whose', 'namely', 'no', 'only', 'i', 'anything', 'thru', 'sixty', 'via', 'a', 'first', 'now', 'toward', 'bottom', 'towards', 'former', 'nor', 'yet', 'hundred', 'six', '‘s', 'can', 'in', 'are', 'becoming', 'few', 'same', 'amongst', 'anyway', 'side', 'through', 'thereby', 'using', '’ll', 'really', 're', 'formerly', 'seemed', 'well', 'among', '‘m', 'with', 'before', 'unless', 'our', 'what', 'around', 'would', 'else', \"'d\", 'it', 'they', 'became', 'into', 'besides', 'on', 'themselves', 'due', \"'ll\", 'which', 'whom', 'go', 'all', 'or', 'of', 'out', 'down', 'may', 'my', \"'ve\", 'against', 'regarding', 'herself', 'indeed', 'up', 'eleven', 'her', 'cannot', 'over', 'if', 'thence', 'that', 'did', 'still', 'put', 'last', 'meanwhile', 'than', 'however', '‘re', 'call', 'wherever', '‘d', 'there', 'almost', 'beside', 'hereupon', 'latterly', 'yourself', 'everyone', 'afterwards', 'because', '’re', 'whoever', 'seeming', 'so', 'as', 'take', 'ourselves', 'how', 'she', 'not', 'part', 'have', 'alone', 'forty', 'once', 'made', 'except', 'above', 'us', 'thereafter', 'herein', 'although', 'between', 'some', 'latter', 'below', 'am', 'done', 'nobody', 'fifteen', 'doing', 'several', 'something', 'was', 'rather', 'throughout', 'somehow']\n"
     ]
    }
   ],
   "source": [
    "stopwords = list(STOP_WORDS)\n",
    "print(stopwords)"
   ]
  },
  {
   "cell_type": "code",
   "execution_count": 100,
   "metadata": {},
   "outputs": [
    {
     "data": {
      "text/plain": [
       "326"
      ]
     },
     "execution_count": 100,
     "metadata": {},
     "output_type": "execute_result"
    }
   ],
   "source": [
    "len(stopwords)"
   ]
  },
  {
   "cell_type": "code",
   "execution_count": 101,
   "metadata": {},
   "outputs": [
    {
     "name": "stdout",
     "output_type": "stream",
     "text": [
      "Apple\n",
      ",\n",
      "sentence\n",
      ".\n",
      "Google\n",
      ".\n",
      "3rd\n"
     ]
    }
   ],
   "source": [
    "# Remove the stopwords from the doc\n",
    "for words in doc:\n",
    "    if words.is_stop == False:\n",
    "        print(words)"
   ]
  },
  {
   "cell_type": "markdown",
   "metadata": {},
   "source": [
    "## Lemmatization\n",
    "\n",
    "Lemmatisation (or lemmatization) in linguistics is the process of grouping together the inflected forms of a word so they can be analysed as a single item, identified by the word's lemma, or dictionary form.\n",
    "\n",
    "In computational linguistics, lemmatisation is the algorithmic process of determining the lemma of a word based on its intended meaning. Unlike stemming, lemmatisation depends on correctly identifying the intended part of speech and meaning of a word in a sentence, as well as within the larger context surrounding that sentence, such as neighboring sentences or even an entire document. As a result, developing efficient lemmatisation algorithms is an open area of research.\n",
    "\n",
 
   ]
  },
  {
   "cell_type": "code",
   "execution_count": 102,
   "metadata": {},
   "outputs": [],
   "source": [
    "doc = nlp('run runs running runner')"
   ]
  },
  {
   "cell_type": "code",
   "execution_count": 103,
   "metadata": {},
   "outputs": [
    {
     "name": "stdout",
     "output_type": "stream",
     "text": [
      "run run\n",
      "runs run\n",
      "running run\n",
      "runner runner\n"
     ]
    }
   ],
   "source": [
    "for lem in doc:\n",
    "    print(lem.text, lem.lemma_)"
   ]
  },
  {
   "cell_type": "markdown",
   "metadata": {},
   "source": [
    "## Part of Speech\n",
    "\n",
    "It is a process of converting a sentence to forms – list of words, list of tuples (where each tuple is having a form (word, tag)). The tag in case of is a part-of-speech tag, and signifies whether the word is a noun, adjective, verb, and so on."
   ]
  },
  {
   "cell_type": "code",
   "execution_count": 104,
   "metadata": {},
   "outputs": [],
   "source": [
    "doc = nlp('All is well, at your end!')"
   ]
  },
  {
   "cell_type": "code",
   "execution_count": 105,
   "metadata": {},
   "outputs": [
    {
     "name": "stdout",
     "output_type": "stream",
     "text": [
      "All DET\n",
      "is AUX\n",
      "well ADJ\n",
      ", PUNCT\n",
      "at ADP\n",
      "your DET\n",
      "end NOUN\n",
      "! PUNCT\n"
     ]
    }
   ],
   "source": [
    "for token in doc:\n",
    "    print(token.text, token.pos_)"
   ]
  },
  {
   "cell_type": "code",
   "execution_count": 106,
   "metadata": {},
   "outputs": [
    {
     "data": {
      "text/html": [
       "<span class=\"tex2jax_ignore\"><svg xmlns=\"http://www.w3.org/2000/svg\" xmlns:xlink=\"http://www.w3.org/1999/xlink\" xml:lang=\"en\" id=\"44af670331cc4d9b9642f5d8953902b7-0\" class=\"displacy\" width=\"1100\" height=\"312.0\" direction=\"ltr\" style=\"max-width: none; height: 312.0px; color: #000000; background: #ffffff; font-family: Arial; direction: ltr\">\n",
       "<text class=\"displacy-token\" fill=\"currentColor\" text-anchor=\"middle\" y=\"222.0\">\n",
       "    <tspan class=\"displacy-word\" fill=\"currentColor\" x=\"50\">All</tspan>\n",
       "    <tspan class=\"displacy-tag\" dy=\"2em\" fill=\"currentColor\" x=\"50\">DET</tspan>\n",
       "</text>\n",
       "\n",
       "<text class=\"displacy-token\" fill=\"currentColor\" text-anchor=\"middle\" y=\"222.0\">\n",
       "    <tspan class=\"displacy-word\" fill=\"currentColor\" x=\"225\">is</tspan>\n",
       "    <tspan class=\"displacy-tag\" dy=\"2em\" fill=\"currentColor\" x=\"225\">AUX</tspan>\n",
       "</text>\n",
       "\n",
       "<text class=\"displacy-token\" fill=\"currentColor\" text-anchor=\"middle\" y=\"222.0\">\n",
       "    <tspan class=\"displacy-word\" fill=\"currentColor\" x=\"400\">well,</tspan>\n",
       "    <tspan class=\"displacy-tag\" dy=\"2em\" fill=\"currentColor\" x=\"400\">ADJ</tspan>\n",
       "</text>\n",
       "\n",
       "<text class=\"displacy-token\" fill=\"currentColor\" text-anchor=\"middle\" y=\"222.0\">\n",
       "    <tspan class=\"displacy-word\" fill=\"currentColor\" x=\"575\">at</tspan>\n",
       "    <tspan class=\"displacy-tag\" dy=\"2em\" fill=\"currentColor\" x=\"575\">ADP</tspan>\n",
       "</text>\n",
       "\n",
       "<text class=\"displacy-token\" fill=\"currentColor\" text-anchor=\"middle\" y=\"222.0\">\n",
       "    <tspan class=\"displacy-word\" fill=\"currentColor\" x=\"750\">your</tspan>\n",
       "    <tspan class=\"displacy-tag\" dy=\"2em\" fill=\"currentColor\" x=\"750\">DET</tspan>\n",
       "</text>\n",
       "\n",
       "<text class=\"displacy-token\" fill=\"currentColor\" text-anchor=\"middle\" y=\"222.0\">\n",
       "    <tspan class=\"displacy-word\" fill=\"currentColor\" x=\"925\">end!</tspan>\n",
       "    <tspan class=\"displacy-tag\" dy=\"2em\" fill=\"currentColor\" x=\"925\">NOUN</tspan>\n",
       "</text>\n",
       "\n",
       "<g class=\"displacy-arrow\">\n",
       "    <path class=\"displacy-arc\" id=\"arrow-44af670331cc4d9b9642f5d8953902b7-0-0\" stroke-width=\"2px\" d=\"M70,177.0 C70,89.5 220.0,89.5 220.0,177.0\" fill=\"none\" stroke=\"currentColor\"/>\n",
       "    <text dy=\"1.25em\" style=\"font-size: 0.8em; letter-spacing: 1px\">\n",
       "        <textPath xlink:href=\"#arrow-44af670331cc4d9b9642f5d8953902b7-0-0\" class=\"displacy-label\" startOffset=\"50%\" side=\"left\" fill=\"currentColor\" text-anchor=\"middle\">nsubj</textPath>\n",
       "    </text>\n",
       "    <path class=\"displacy-arrowhead\" d=\"M70,179.0 L62,167.0 78,167.0\" fill=\"currentColor\"/>\n",
       "</g>\n",
       "\n",
       "<g class=\"displacy-arrow\">\n",
       "    <path class=\"displacy-arc\" id=\"arrow-44af670331cc4d9b9642f5d8953902b7-0-1\" stroke-width=\"2px\" d=\"M245,177.0 C245,89.5 395.0,89.5 395.0,177.0\" fill=\"none\" stroke=\"currentColor\"/>\n",
       "    <text dy=\"1.25em\" style=\"font-size: 0.8em; letter-spacing: 1px\">\n",
       "        <textPath xlink:href=\"#arrow-44af670331cc4d9b9642f5d8953902b7-0-1\" class=\"displacy-label\" startOffset=\"50%\" side=\"left\" fill=\"currentColor\" text-anchor=\"middle\">advmod</textPath>\n",
       "    </text>\n",
       "    <path class=\"displacy-arrowhead\" d=\"M395.0,179.0 L403.0,167.0 387.0,167.0\" fill=\"currentColor\"/>\n",
       "</g>\n",
       "\n",
       "<g class=\"displacy-arrow\">\n",
       "    <path class=\"displacy-arc\" id=\"arrow-44af670331cc4d9b9642f5d8953902b7-0-2\" stroke-width=\"2px\" d=\"M245,177.0 C245,2.0 575.0,2.0 575.0,177.0\" fill=\"none\" stroke=\"currentColor\"/>\n",
       "    <text dy=\"1.25em\" style=\"font-size: 0.8em; letter-spacing: 1px\">\n",
       "        <textPath xlink:href=\"#arrow-44af670331cc4d9b9642f5d8953902b7-0-2\" class=\"displacy-label\" startOffset=\"50%\" side=\"left\" fill=\"currentColor\" text-anchor=\"middle\">prep</textPath>\n",
       "    </text>\n",
       "    <path class=\"displacy-arrowhead\" d=\"M575.0,179.0 L583.0,167.0 567.0,167.0\" fill=\"currentColor\"/>\n",
       "</g>\n",
       "\n",
       "<g class=\"displacy-arrow\">\n",
       "    <path class=\"displacy-arc\" id=\"arrow-44af670331cc4d9b9642f5d8953902b7-0-3\" stroke-width=\"2px\" d=\"M770,177.0 C770,89.5 920.0,89.5 920.0,177.0\" fill=\"none\" stroke=\"currentColor\"/>\n",
       "    <text dy=\"1.25em\" style=\"font-size: 0.8em; letter-spacing: 1px\">\n",
       "        <textPath xlink:href=\"#arrow-44af670331cc4d9b9642f5d8953902b7-0-3\" class=\"displacy-label\" startOffset=\"50%\" side=\"left\" fill=\"currentColor\" text-anchor=\"middle\">poss</textPath>\n",
       "    </text>\n",
       "    <path class=\"displacy-arrowhead\" d=\"M770,179.0 L762,167.0 778,167.0\" fill=\"currentColor\"/>\n",
       "</g>\n",
       "\n",
       "<g class=\"displacy-arrow\">\n",
       "    <path class=\"displacy-arc\" id=\"arrow-44af670331cc4d9b9642f5d8953902b7-0-4\" stroke-width=\"2px\" d=\"M595,177.0 C595,2.0 925.0,2.0 925.0,177.0\" fill=\"none\" stroke=\"currentColor\"/>\n",
       "    <text dy=\"1.25em\" style=\"font-size: 0.8em; letter-spacing: 1px\">\n",
       "        <textPath xlink:href=\"#arrow-44af670331cc4d9b9642f5d8953902b7-0-4\" class=\"displacy-label\" startOffset=\"50%\" side=\"left\" fill=\"currentColor\" text-anchor=\"middle\">pobj</textPath>\n",
       "    </text>\n",
       "    <path class=\"displacy-arrowhead\" d=\"M925.0,179.0 L933.0,167.0 917.0,167.0\" fill=\"currentColor\"/>\n",
       "</g>\n",
       "</svg></span>"
      ],
      "text/plain": [
       "<IPython.core.display.HTML object>"
      ]
     },
     "metadata": {},
     "output_type": "display_data"
    }
   ],
   "source": [
    "displacy.render(doc, style='dep')"
   ]
  },
  {
   "cell_type": "markdown",
   "metadata": {},
   "source": [
    "## Entity Detection"
   ]
  },
  {
   "cell_type": "code",
   "execution_count": 107,
   "metadata": {},
   "outputs": [],
   "source": [
    "doc = nlp('New York and Apple with Google are planning to open new jobs Offers')"
   ]
  },
  {
   "cell_type": "code",
   "execution_count": 108,
   "metadata": {},
   "outputs": [
    {
     "data": {
      "text/html": [
       "<span class=\"tex2jax_ignore\"><div class=\"entities\" style=\"line-height: 2.5; direction: ltr\">\n",
       "<mark class=\"entity\" style=\"background: #feca74; padding: 0.45em 0.6em; margin: 0 0.25em; line-height: 1; border-radius: 0.35em;\">\n",
       "    New York\n",
       "    <span style=\"font-size: 0.8em; font-weight: bold; line-height: 1; border-radius: 0.35em; text-transform: uppercase; vertical-align: middle; margin-left: 0.5rem\">GPE</span>\n",
       "</mark>\n",
       " and \n",
       "<mark class=\"entity\" style=\"background: #7aecec; padding: 0.45em 0.6em; margin: 0 0.25em; line-height: 1; border-radius: 0.35em;\">\n",
       "    Apple\n",
       "    <span style=\"font-size: 0.8em; font-weight: bold; line-height: 1; border-radius: 0.35em; text-transform: uppercase; vertical-align: middle; margin-left: 0.5rem\">ORG</span>\n",
       "</mark>\n",
       " with \n",
       "<mark class=\"entity\" style=\"background: #7aecec; padding: 0.45em 0.6em; margin: 0 0.25em; line-height: 1; border-radius: 0.35em;\">\n",
       "    Google\n",
       "    <span style=\"font-size: 0.8em; font-weight: bold; line-height: 1; border-radius: 0.35em; text-transform: uppercase; vertical-align: middle; margin-left: 0.5rem\">ORG</span>\n",
       "</mark>\n",
       " are planning to open new jobs Offers</div></span>"
      ],
      "text/plain": [
       "<IPython.core.display.HTML object>"
      ]
     },
     "metadata": {},
     "output_type": "display_data"
    }
   ],
   "source": [
    "displacy.render(doc, style='ent')"
   ]
  },
  {
   "cell_type": "markdown",
   "metadata": {},
   "source": [
    "## Sentiment Classification\n",
    "\n",
    "_Import all the datasets_"
   ]
  },
  {
   "cell_type": "code",
   "execution_count": 109,
   "metadata": {},
   "outputs": [
    {
     "data": {
      "text/html": [
       "<div>\n",
       "<style scoped>\n",
       "    .dataframe tbody tr th:only-of-type {\n",
       "        vertical-align: middle;\n",
       "    }\n",
       "\n",
       "    .dataframe tbody tr th {\n",
       "        vertical-align: top;\n",
       "    }\n",
       "\n",
       "    .dataframe thead th {\n",
       "        text-align: right;\n",
       "    }\n",
       "</style>\n",
       "<table border=\"1\" class=\"dataframe\">\n",
       "  <thead>\n",
       "    <tr style=\"text-align: right;\">\n",
       "      <th></th>\n",
       "      <th>0</th>\n",
       "      <th>1</th>\n",
       "    </tr>\n",
       "  </thead>\n",
       "  <tbody>\n",
       "    <tr>\n",
       "      <th>0</th>\n",
       "      <td>Wow... Loved this place.</td>\n",
       "      <td>1</td>\n",
       "    </tr>\n",
       "    <tr>\n",
       "      <th>1</th>\n",
       "      <td>Crust is not good.</td>\n",
       "      <td>0</td>\n",
       "    </tr>\n",
       "    <tr>\n",
       "      <th>2</th>\n",
       "      <td>Not tasty and the texture was just nasty.</td>\n",
       "      <td>0</td>\n",
       "    </tr>\n",
       "    <tr>\n",
       "      <th>3</th>\n",
       "      <td>Stopped by during the late May bank holiday of...</td>\n",
       "      <td>1</td>\n",
       "    </tr>\n",
       "    <tr>\n",
       "      <th>4</th>\n",
       "      <td>The selection on the menu was great and so wer...</td>\n",
       "      <td>1</td>\n",
       "    </tr>\n",
       "  </tbody>\n",
       "</table>\n",
       "</div>"
      ],
      "text/plain": [
       "                                                   0  1\n",
       "0                           Wow... Loved this place.  1\n",
       "1                                 Crust is not good.  0\n",
       "2          Not tasty and the texture was just nasty.  0\n",
       "3  Stopped by during the late May bank holiday of...  1\n",
       "4  The selection on the menu was great and so wer...  1"
      ]
     },
     "execution_count": 109,
     "metadata": {},
     "output_type": "execute_result"
    }
   ],
   "source": [
    "data_yelp = pd.read_csv('./datasets/yelp_labelled.txt', sep='\\t', header=None)\n",
    "data_yelp.head()"
   ]
  },
  {
   "cell_type": "code",
   "execution_count": 110,
   "metadata": {},
   "outputs": [
    {
     "data": {
      "text/html": [
       "<div>\n",
       "<style scoped>\n",
       "    .dataframe tbody tr th:only-of-type {\n",
       "        vertical-align: middle;\n",
       "    }\n",
       "\n",
       "    .dataframe tbody tr th {\n",
       "        vertical-align: top;\n",
       "    }\n",
       "\n",
       "    .dataframe thead th {\n",
       "        text-align: right;\n",
       "    }\n",
       "</style>\n",
       "<table border=\"1\" class=\"dataframe\">\n",
       "  <thead>\n",
       "    <tr style=\"text-align: right;\">\n",
       "      <th></th>\n",
       "      <th>Review</th>\n",
       "      <th>Sentiment</th>\n",
       "    </tr>\n",
       "  </thead>\n",
       "  <tbody>\n",
       "    <tr>\n",
       "      <th>0</th>\n",
       "      <td>Wow... Loved this place.</td>\n",
       "      <td>1</td>\n",
       "    </tr>\n",
       "    <tr>\n",
       "      <th>1</th>\n",
       "      <td>Crust is not good.</td>\n",
       "      <td>0</td>\n",
       "    </tr>\n",
       "    <tr>\n",
       "      <th>2</th>\n",
       "      <td>Not tasty and the texture was just nasty.</td>\n",
       "      <td>0</td>\n",
       "    </tr>\n",
       "    <tr>\n",
       "      <th>3</th>\n",
       "      <td>Stopped by during the late May bank holiday of...</td>\n",
       "      <td>1</td>\n",
       "    </tr>\n",
       "    <tr>\n",
       "      <th>4</th>\n",
       "      <td>The selection on the menu was great and so wer...</td>\n",
       "      <td>1</td>\n",
       "    </tr>\n",
       "  </tbody>\n",
       "</table>\n",
       "</div>"
      ],
      "text/plain": [
       "                                              Review  Sentiment\n",
       "0                           Wow... Loved this place.          1\n",
       "1                                 Crust is not good.          0\n",
       "2          Not tasty and the texture was just nasty.          0\n",
       "3  Stopped by during the late May bank holiday of...          1\n",
       "4  The selection on the menu was great and so wer...          1"
      ]
     },
     "execution_count": 110,
     "metadata": {},
     "output_type": "execute_result"
    }
   ],
   "source": [
    "columns_names = ['Review','Sentiment']\n",
    "data_yelp.columns = columns_names\n",
    "data_yelp.head()"
   ]
  },
  {
   "cell_type": "code",
   "execution_count": 111,
   "metadata": {},
   "outputs": [
    {
     "data": {
      "text/plain": [
       "(1000, 2)"
      ]
     },
     "execution_count": 111,
     "metadata": {},
     "output_type": "execute_result"
    }
   ],
   "source": [
    "data_yelp.shape"
   ]
  },
  {
   "cell_type": "code",
   "execution_count": 112,
   "metadata": {},
   "outputs": [],
   "source": [
    "data_amazon = pd.read_csv('./datasets/amazon_cells_labelled.txt', sep = '\\t', header = None)\n",
    "data_amazon.columns = columns_names"
   ]
  },
  {
   "cell_type": "code",
   "execution_count": 113,
   "metadata": {},
   "outputs": [
    {
     "data": {
      "text/html": [
       "<div>\n",
       "<style scoped>\n",
       "    .dataframe tbody tr th:only-of-type {\n",
       "        vertical-align: middle;\n",
       "    }\n",
       "\n",
       "    .dataframe tbody tr th {\n",
       "        vertical-align: top;\n",
       "    }\n",
       "\n",
       "    .dataframe thead th {\n",
       "        text-align: right;\n",
       "    }\n",
       "</style>\n",
       "<table border=\"1\" class=\"dataframe\">\n",
       "  <thead>\n",
       "    <tr style=\"text-align: right;\">\n",
       "      <th></th>\n",
       "      <th>Review</th>\n",
       "      <th>Sentiment</th>\n",
       "    </tr>\n",
       "  </thead>\n",
       "  <tbody>\n",
       "    <tr>\n",
       "      <th>0</th>\n",
       "      <td>So there is no way for me to plug it in here i...</td>\n",
       "      <td>0</td>\n",
       "    </tr>\n",
       "    <tr>\n",
       "      <th>1</th>\n",
       "      <td>Good case, Excellent value.</td>\n",
       "      <td>1</td>\n",
       "    </tr>\n",
       "    <tr>\n",
       "      <th>2</th>\n",
       "      <td>Great for the jawbone.</td>\n",
       "      <td>1</td>\n",
       "    </tr>\n",
       "    <tr>\n",
       "      <th>3</th>\n",
       "      <td>Tied to charger for conversations lasting more...</td>\n",
       "      <td>0</td>\n",
       "    </tr>\n",
       "    <tr>\n",
       "      <th>4</th>\n",
       "      <td>The mic is great.</td>\n",
       "      <td>1</td>\n",
       "    </tr>\n",
       "  </tbody>\n",
       "</table>\n",
       "</div>"
      ],
      "text/plain": [
       "                                              Review  Sentiment\n",
       "0  So there is no way for me to plug it in here i...          0\n",
       "1                        Good case, Excellent value.          1\n",
       "2                             Great for the jawbone.          1\n",
       "3  Tied to charger for conversations lasting more...          0\n",
       "4                                  The mic is great.          1"
      ]
     },
     "execution_count": 113,
     "metadata": {},
     "output_type": "execute_result"
    }
   ],
   "source": [
    "data_amazon.head()"
   ]
  },
  {
   "cell_type": "code",
   "execution_count": 114,
   "metadata": {},
   "outputs": [
    {
     "data": {
      "text/plain": [
       "(1000, 2)"
      ]
     },
     "execution_count": 114,
     "metadata": {},
     "output_type": "execute_result"
    }
   ],
   "source": [
    "data_amazon.shape"
   ]
  },
  {
   "cell_type": "code",
   "execution_count": 115,
   "metadata": {},
   "outputs": [
    {
     "data": {
      "text/html": [
       "<div>\n",
       "<style scoped>\n",
       "    .dataframe tbody tr th:only-of-type {\n",
       "        vertical-align: middle;\n",
       "    }\n",
       "\n",
       "    .dataframe tbody tr th {\n",
       "        vertical-align: top;\n",
       "    }\n",
       "\n",
       "    .dataframe thead th {\n",
       "        text-align: right;\n",
       "    }\n",
       "</style>\n",
       "<table border=\"1\" class=\"dataframe\">\n",
       "  <thead>\n",
       "    <tr style=\"text-align: right;\">\n",
       "      <th></th>\n",
       "      <th>Review</th>\n",
       "      <th>Sentiment</th>\n",
       "    </tr>\n",
       "  </thead>\n",
       "  <tbody>\n",
       "    <tr>\n",
       "      <th>0</th>\n",
       "      <td>A very, very, very slow-moving, aimless movie ...</td>\n",
       "      <td>0</td>\n",
       "    </tr>\n",
       "    <tr>\n",
       "      <th>1</th>\n",
       "      <td>Not sure who was more lost - the flat characte...</td>\n",
       "      <td>0</td>\n",
       "    </tr>\n",
       "    <tr>\n",
       "      <th>2</th>\n",
       "      <td>Attempting artiness with black &amp; white and cle...</td>\n",
       "      <td>0</td>\n",
       "    </tr>\n",
       "    <tr>\n",
       "      <th>3</th>\n",
       "      <td>Very little music or anything to speak of.</td>\n",
       "      <td>0</td>\n",
       "    </tr>\n",
       "    <tr>\n",
       "      <th>4</th>\n",
       "      <td>The best scene in the movie was when Gerardo i...</td>\n",
       "      <td>1</td>\n",
       "    </tr>\n",
       "  </tbody>\n",
       "</table>\n",
       "</div>"
      ],
      "text/plain": [
       "                                              Review  Sentiment\n",
       "0  A very, very, very slow-moving, aimless movie ...          0\n",
       "1  Not sure who was more lost - the flat characte...          0\n",
       "2  Attempting artiness with black & white and cle...          0\n",
       "3       Very little music or anything to speak of.            0\n",
       "4  The best scene in the movie was when Gerardo i...          1"
      ]
     },
     "execution_count": 115,
     "metadata": {},
     "output_type": "execute_result"
    }
   ],
   "source": [
    "data_imdb = pd.read_csv('./datasets/imdb_labelled.txt', sep = '\\t', header = None)\n",
    "data_imdb.columns = columns_names\n",
    "data_imdb.head()"
   ]
  },
  {
   "cell_type": "code",
   "execution_count": 116,
   "metadata": {},
   "outputs": [
    {
     "data": {
      "text/plain": [
       "(748, 2)"
      ]
     },
     "execution_count": 116,
     "metadata": {},
     "output_type": "execute_result"
    }
   ],
   "source": [
    "data_imdb.shape"
   ]
  },
  {
   "cell_type": "code",
   "execution_count": 117,
   "metadata": {},
   "outputs": [
    {
     "data": {
      "text/plain": [
       "(2748, 2)"
      ]
     },
     "execution_count": 117,
     "metadata": {},
     "output_type": "execute_result"
    }
   ],
   "source": [
    "data = data_yelp.append([data_amazon, data_imdb],ignore_index=True)\n",
    "data.shape"
   ]
  },
  {
   "cell_type": "code",
   "execution_count": 118,
   "metadata": {},
   "outputs": [
    {
     "data": {
      "text/html": [
       "<div>\n",
       "<style scoped>\n",
       "    .dataframe tbody tr th:only-of-type {\n",
       "        vertical-align: middle;\n",
       "    }\n",
       "\n",
       "    .dataframe tbody tr th {\n",
       "        vertical-align: top;\n",
       "    }\n",
       "\n",
       "    .dataframe thead th {\n",
       "        text-align: right;\n",
       "    }\n",
       "</style>\n",
       "<table border=\"1\" class=\"dataframe\">\n",
       "  <thead>\n",
       "    <tr style=\"text-align: right;\">\n",
       "      <th></th>\n",
       "      <th>Review</th>\n",
       "      <th>Sentiment</th>\n",
       "    </tr>\n",
       "  </thead>\n",
       "  <tbody>\n",
       "    <tr>\n",
       "      <th>0</th>\n",
       "      <td>Wow... Loved this place.</td>\n",
       "      <td>1</td>\n",
       "    </tr>\n",
       "    <tr>\n",
       "      <th>1</th>\n",
       "      <td>Crust is not good.</td>\n",
       "      <td>0</td>\n",
       "    </tr>\n",
       "    <tr>\n",
       "      <th>2</th>\n",
       "      <td>Not tasty and the texture was just nasty.</td>\n",
       "      <td>0</td>\n",
       "    </tr>\n",
       "    <tr>\n",
       "      <th>3</th>\n",
       "      <td>Stopped by during the late May bank holiday of...</td>\n",
       "      <td>1</td>\n",
       "    </tr>\n",
       "    <tr>\n",
       "      <th>4</th>\n",
       "      <td>The selection on the menu was great and so wer...</td>\n",
       "      <td>1</td>\n",
       "    </tr>\n",
       "  </tbody>\n",
       "</table>\n",
       "</div>"
      ],
      "text/plain": [
       "                                              Review  Sentiment\n",
       "0                           Wow... Loved this place.          1\n",
       "1                                 Crust is not good.          0\n",
       "2          Not tasty and the texture was just nasty.          0\n",
       "3  Stopped by during the late May bank holiday of...          1\n",
       "4  The selection on the menu was great and so wer...          1"
      ]
     },
     "execution_count": 118,
     "metadata": {},
     "output_type": "execute_result"
    }
   ],
   "source": [
    "data.head()"
   ]
  },
  {
   "cell_type": "code",
   "execution_count": 119,
   "metadata": {},
   "outputs": [
    {
     "data": {
      "text/plain": [
       "1    1386\n",
       "0    1362\n",
       "Name: Sentiment, dtype: int64"
      ]
     },
     "execution_count": 119,
     "metadata": {},
     "output_type": "execute_result"
    }
   ],
   "source": [
    "data ['Sentiment'].value_counts()"
   ]
  },
  {
   "cell_type": "code",
   "execution_count": 120,
   "metadata": {},
   "outputs": [
    {
     "data": {
      "text/plain": [
       "Review       0\n",
       "Sentiment    0\n",
       "dtype: int64"
      ]
     },
     "execution_count": 120,
     "metadata": {},
     "output_type": "execute_result"
    }
   ],
   "source": [
    "data.isnull().sum()"
   ]
  },
  {
   "cell_type": "markdown",
   "metadata": {},
   "source": [
    "### Tokenization"
   ]
  },
  {
   "cell_type": "code",
   "execution_count": 128,
   "metadata": {},
   "outputs": [],
   "source": [
    "punct = string.punctuation"
   ]
  },
  {
   "cell_type": "code",
   "execution_count": 129,
   "metadata": {},
   "outputs": [
    {
     "data": {
      "text/plain": [
       "'!\"#$%&\\'()*+,-./:;<=>?@[\\\\]^_`{|}~'"
      ]
     },
     "execution_count": 129,
     "metadata": {},
     "output_type": "execute_result"
    }
   ],
   "source": [
    "punct"
   ]
  },
  {
   "cell_type": "code",
   "execution_count": 130,
   "metadata": {},
   "outputs": [],
   "source": [
    "def text_data_cleaning(sentence):\n",
    "    doc = nlp(sentence)\n",
    "    tokens = []\n",
    "    for token in doc:\n",
    "        if token.lemma_ !=\"-PRON-\":\n",
    "            temp = token.lemma_.lower().strip()\n",
    "        else:\n",
    "            temp = token.lower_\n",
    "        tokens.append(temp)\n",
    "    \n",
    "    # Clean the tokens\n",
    "    cleaned_tokens = []\n",
    "    for token in tokens:\n",
    "        if token not in stopwords and token not in punct:\n",
    "            cleaned_tokens.append(token)\n",
    "    return cleaned_tokens"
   ]
  },
  {
   "cell_type": "code",
   "execution_count": 131,
   "metadata": {},
   "outputs": [
    {
     "data": {
      "text/plain": [
       "['hello', 'like', 'video']"
      ]
     },
     "execution_count": 131,
     "metadata": {},
     "output_type": "execute_result"
    }
   ],
   "source": [
    "text_data_cleaning(\"Hello how are you. Like this video\")"
   ]
  },
  {
   "cell_type": "markdown",
   "metadata": {},
   "source": [
    "### Vectorization Feature Engineering (TF-IDF)"
   ]
  },
  {
   "cell_type": "code",
   "execution_count": 132,
   "metadata": {},
   "outputs": [],
   "source": [
    "tfidf = TfidfVectorizer(tokenizer = text_data_cleaning)\n",
    "classifier = LinearSVC()"
   ]
  },
  {
   "cell_type": "code",
   "execution_count": 133,
   "metadata": {},
   "outputs": [],
   "source": [
    "x = data['Review']\n",
    "y  =data['Sentiment']"
   ]
  },
  {
   "cell_type": "code",
   "execution_count": 134,
   "metadata": {},
   "outputs": [],
   "source": [
    "x_train, x_test, y_train, y_test = train_test_split(x,y, test_size=0.2, random_state=42)"
   ]
  },
  {
   "cell_type": "code",
   "execution_count": 135,
   "metadata": {},
   "outputs": [
    {
     "data": {
      "text/plain": [
       "((2198,), (550,))"
      ]
     },
     "execution_count": 135,
     "metadata": {},
     "output_type": "execute_result"
    }
   ],
   "source": [
    "x_train.shape, x_test.shape"
   ]
  },
  {
   "cell_type": "code",
   "execution_count": 136,
   "metadata": {},
   "outputs": [],
   "source": [
    "clf = Pipeline([('tfidf', tfidf), ('clf',classifier)])"
   ]
  },
  {
   "cell_type": "code",
   "execution_count": 137,
   "metadata": {},
   "outputs": [
    {
     "data": {
      "text/plain": [
       "Pipeline(steps=[('tfidf',\n",
       "                 TfidfVectorizer(tokenizer=<function text_data_cleaning at 0x000001B2C035E160>)),\n",
       "                ('clf', LinearSVC())])"
      ]
     },
     "execution_count": 137,
     "metadata": {},
     "output_type": "execute_result"
    }
   ],
   "source": [
    "clf.fit(x_train, y_train)"
   ]
  },
  {
   "cell_type": "code",
   "execution_count": 138,
   "metadata": {},
   "outputs": [],
   "source": [
    "y_pred = clf.predict(x_test)"
   ]
  },
  {
   "cell_type": "code",
   "execution_count": 139,
   "metadata": {},
   "outputs": [
    {
     "name": "stdout",
     "output_type": "stream",
     "text": [
      "              precision    recall  f1-score   support\n",
      "\n",
      "           0       0.77      0.81      0.79       285\n",
      "           1       0.78      0.74      0.76       265\n",
      "\n",
      "    accuracy                           0.78       550\n",
      "   macro avg       0.78      0.78      0.78       550\n",
      "weighted avg       0.78      0.78      0.78       550\n",
      "\n"
     ]
    }
   ],
   "source": [
    "print(classification_report(y_test, y_pred))"
   ]
  },
  {
   "cell_type": "code",
   "execution_count": 140,
   "metadata": {},
   "outputs": [],
   "source": [
    "cm = confusion_matrix(y_test, y_pred)"
   ]
  },
  {
   "cell_type": "code",
   "execution_count": 141,
   "metadata": {},
   "outputs": [
    {
     "data": {
      "image/png": "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\n",
      "text/plain": [
       "<Figure size 432x288 with 2 Axes>"
      ]
     },
     "metadata": {
      "needs_background": "light"
     },
     "output_type": "display_data"
    }
   ],
   "source": [
    "# Plot confusion matrix\n",
    "disp = ConfusionMatrixDisplay(confusion_matrix=cm,\n",
    "                              display_labels=['Positive', 'Negative'])\n",
    "\n",
    "\n",
    "# NOTE: Fill all variables here with default values of the plot_confusion_matrix\n",
    "disp = disp.plot(include_values=['Positive', 'Negative'],\n",
    "                 cmap=plt.cm.Reds, xticks_rotation=45)\n",
    "\n",
    "plt.show()"
   ]
  },
  {
   "cell_type": "code",
   "execution_count": 147,
   "metadata": {},
   "outputs": [
    {
     "data": {
      "text/plain": [
       "0.7763636363636364"
      ]
     },
     "execution_count": 147,
     "metadata": {},
     "output_type": "execute_result"
    }
   ],
   "source": [
    "accuracy_score(y_test, y_pred)"
   ]
  },
  {
   "cell_type": "markdown",
   "metadata": {},
   "source": [
    "## Testing the model"
   ]
  },
  {
   "cell_type": "code",
   "execution_count": 148,
   "metadata": {},
   "outputs": [
    {
     "data": {
      "text/plain": [
       "array([1], dtype=int64)"
      ]
     },
     "execution_count": 148,
     "metadata": {},
     "output_type": "execute_result"
    }
   ],
   "source": [
    "clf.predict(['Wow, this is amazing lesson'])"
   ]
  },
  {
   "cell_type": "code",
   "execution_count": 149,
   "metadata": {},
   "outputs": [
    {
     "data": {
      "text/plain": [
       "array([0], dtype=int64)"
      ]
     },
     "execution_count": 149,
     "metadata": {},
     "output_type": "execute_result"
    }
   ],
   "source": [
    "clf.predict(['Wow, this sucks'])"
   ]
  },
  {
   "cell_type": "code",
   "execution_count": 150,
   "metadata": {},
   "outputs": [
    {
     "data": {
      "text/plain": [
       "array([1], dtype=int64)"
      ]
     },
     "execution_count": 150,
     "metadata": {},
     "output_type": "execute_result"
    }
   ],
   "source": [
    "clf.predict(['Worth of watching it. Please like it'])"
   ]
  },
  {
   "cell_type": "code",
   "execution_count": 151,
   "metadata": {},
   "outputs": [
    {
     "data": {
      "text/plain": [
       "array([0], dtype=int64)"
      ]
     },
     "execution_count": 151,
     "metadata": {},
     "output_type": "execute_result"
    }
   ],
   "source": [
    "clf.predict(['Disgunsting. It took a very long time to arrive. The worst provider '])"
   ]
  }
 ],
 "metadata": {
  "kernelspec": {
   "display_name": "Python 3",
   "language": "python",
   "name": "python3"
  },
  "language_info": {
   "codemirror_mode": {
    "name": "ipython",
    "version": 3
   },
   "file_extension": ".py",
   "mimetype": "text/x-python",
   "name": "python",
   "nbconvert_exporter": "python",
   "pygments_lexer": "ipython3",
   "version": "3.8.5"
  }
 },
 "nbformat": 4,
 "nbformat_minor": 4
}
